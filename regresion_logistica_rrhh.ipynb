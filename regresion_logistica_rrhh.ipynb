{
  "nbformat": 4,
  "nbformat_minor": 0,
  "metadata": {
    "colab": {
      "provenance": [],
      "authorship_tag": "ABX9TyPUvWSQ6Zyu1ranGi96hXHH",
      "include_colab_link": true
    },
    "kernelspec": {
      "name": "python3",
      "display_name": "Python 3"
    },
    "language_info": {
      "name": "python"
    }
  },
  "cells": [
    {
      "cell_type": "markdown",
      "metadata": {
        "id": "view-in-github",
        "colab_type": "text"
      },
      "source": [
        "<a href=\"https://colab.research.google.com/github/Maria-Data-Analyst/RRHH_Machine_Learning-/blob/main/regresion_logistica_rrhh.ipynb\" target=\"_parent\"><img src=\"https://colab.research.google.com/assets/colab-badge.svg\" alt=\"Open In Colab\"/></a>"
      ]
    },
    {
      "cell_type": "code",
      "execution_count": 202,
      "metadata": {
        "collapsed": true,
        "id": "PeIykecXdIE4"
      },
      "outputs": [],
      "source": [
        "import pandas as pd\n",
        "import numpy as np\n",
        "import matplotlib.pyplot as plt\n",
        "import seaborn as sns\n",
        "from scipy import stats\n",
        "from google.colab import files\n",
        "from sklearn.tree import DecisionTreeClassifier\n",
        "from sklearn.model_selection import train_test_split\n",
        "from sklearn.utils import resample\n",
        "from sklearn.ensemble import RandomForestClassifier\n",
        "from sklearn.feature_selection import RFE\n",
        "from sklearn.linear_model import LogisticRegression\n",
        "import statsmodels.api as sm\n",
        "from sklearn.metrics import accuracy_score, confusion_matrix, classification_report\n",
        "from imblearn.over_sampling import SMOTE\n",
        "from sklearn.model_selection import cross_val_score\n",
        "from sklearn.metrics import roc_curve, roc_auc_score"
      ]
    },
    {
      "cell_type": "code",
      "source": [
        "df = pd.read_csv('/content/datos_dummy.csv')"
      ],
      "metadata": {
        "id": "BE3mmyU3dKHk"
      },
      "execution_count": 203,
      "outputs": []
    },
    {
      "cell_type": "markdown",
      "source": [
        "LogisticRegression con balanceo de datos undersampling\n",
        "\n",
        "\n",
        "\n"
      ],
      "metadata": {
        "id": "jklupWbILFiI"
      }
    },
    {
      "cell_type": "code",
      "source": [
        "# Separar las clases\n",
        "df_majority = df[df.attrition_yes == 0]\n",
        "df_minority = df[df.attrition_yes == 1]"
      ],
      "metadata": {
        "id": "hU1suF72C3YL"
      },
      "execution_count": 204,
      "outputs": []
    },
    {
      "cell_type": "code",
      "source": [
        "# Realizar undersampling en la clase mayoritaria para igualar el tamaño de la clase minoritaria\n",
        "df_majority_downsampled = resample(df_majority,\n",
        "                                   replace=False,  # Sin reemplazo\n",
        "                                   n_samples=len(df_minority),  # Igualar tamaño a la clase minoritaria\n",
        "                                   random_state=123)  # Para reproducibilidad"
      ],
      "metadata": {
        "id": "juCl_ZFydWxL"
      },
      "execution_count": 205,
      "outputs": []
    },
    {
      "cell_type": "code",
      "source": [
        "# Combinar las clases balanceadas\n",
        "datos_3 = pd.concat([df_majority_downsampled, df_minority])\n",
        "# Verificar el balance de clases\n",
        "print(datos_3.attrition_yes.value_counts())"
      ],
      "metadata": {
        "colab": {
          "base_uri": "https://localhost:8080/"
        },
        "id": "xgmw3-0gdZyj",
        "outputId": "3fd13602-96fb-4c62-c57e-7ab0ca68e097"
      },
      "execution_count": 206,
      "outputs": [
        {
          "output_type": "stream",
          "name": "stdout",
          "text": [
            "attrition_yes\n",
            "0    711\n",
            "1    711\n",
            "Name: count, dtype: int64\n"
          ]
        }
      ]
    },
    {
      "cell_type": "code",
      "source": [
        "# Separar características (X) y la variable objetivo (y)\n",
        "X = datos_3.drop(columns=['attrition_yes'])  # Eliminar la variable objetivo de las características\n",
        "y = datos_3['attrition_yes']  # Variable objetivo\n",
        "\n",
        "# Dividir el conjunto de datos en entrenamiento y prueba (80% entrenamiento, 20% prueba)\n",
        "X_train, X_test, y_train, y_test = train_test_split(X, y, test_size=0.2, random_state=42)"
      ],
      "metadata": {
        "id": "k5tTo2Wbdbra"
      },
      "execution_count": 207,
      "outputs": []
    },
    {
      "cell_type": "code",
      "source": [
        "# Crear el modelo de regresión logística\n",
        "modelo = LogisticRegression(random_state=42)\n",
        "\n",
        "# Entrenar el modelo con los datos de entrenamiento\n",
        "modelo.fit(X_train, y_train)"
      ],
      "metadata": {
        "colab": {
          "base_uri": "https://localhost:8080/",
          "height": 80
        },
        "id": "jIIYmpWQddW7",
        "outputId": "c329a31e-0117-44c1-8d6e-be52156be563"
      },
      "execution_count": 208,
      "outputs": [
        {
          "output_type": "execute_result",
          "data": {
            "text/plain": [
              "LogisticRegression(random_state=42)"
            ],
            "text/html": [
              "<style>#sk-container-id-7 {\n",
              "  /* Definition of color scheme common for light and dark mode */\n",
              "  --sklearn-color-text: black;\n",
              "  --sklearn-color-line: gray;\n",
              "  /* Definition of color scheme for unfitted estimators */\n",
              "  --sklearn-color-unfitted-level-0: #fff5e6;\n",
              "  --sklearn-color-unfitted-level-1: #f6e4d2;\n",
              "  --sklearn-color-unfitted-level-2: #ffe0b3;\n",
              "  --sklearn-color-unfitted-level-3: chocolate;\n",
              "  /* Definition of color scheme for fitted estimators */\n",
              "  --sklearn-color-fitted-level-0: #f0f8ff;\n",
              "  --sklearn-color-fitted-level-1: #d4ebff;\n",
              "  --sklearn-color-fitted-level-2: #b3dbfd;\n",
              "  --sklearn-color-fitted-level-3: cornflowerblue;\n",
              "\n",
              "  /* Specific color for light theme */\n",
              "  --sklearn-color-text-on-default-background: var(--sg-text-color, var(--theme-code-foreground, var(--jp-content-font-color1, black)));\n",
              "  --sklearn-color-background: var(--sg-background-color, var(--theme-background, var(--jp-layout-color0, white)));\n",
              "  --sklearn-color-border-box: var(--sg-text-color, var(--theme-code-foreground, var(--jp-content-font-color1, black)));\n",
              "  --sklearn-color-icon: #696969;\n",
              "\n",
              "  @media (prefers-color-scheme: dark) {\n",
              "    /* Redefinition of color scheme for dark theme */\n",
              "    --sklearn-color-text-on-default-background: var(--sg-text-color, var(--theme-code-foreground, var(--jp-content-font-color1, white)));\n",
              "    --sklearn-color-background: var(--sg-background-color, var(--theme-background, var(--jp-layout-color0, #111)));\n",
              "    --sklearn-color-border-box: var(--sg-text-color, var(--theme-code-foreground, var(--jp-content-font-color1, white)));\n",
              "    --sklearn-color-icon: #878787;\n",
              "  }\n",
              "}\n",
              "\n",
              "#sk-container-id-7 {\n",
              "  color: var(--sklearn-color-text);\n",
              "}\n",
              "\n",
              "#sk-container-id-7 pre {\n",
              "  padding: 0;\n",
              "}\n",
              "\n",
              "#sk-container-id-7 input.sk-hidden--visually {\n",
              "  border: 0;\n",
              "  clip: rect(1px 1px 1px 1px);\n",
              "  clip: rect(1px, 1px, 1px, 1px);\n",
              "  height: 1px;\n",
              "  margin: -1px;\n",
              "  overflow: hidden;\n",
              "  padding: 0;\n",
              "  position: absolute;\n",
              "  width: 1px;\n",
              "}\n",
              "\n",
              "#sk-container-id-7 div.sk-dashed-wrapped {\n",
              "  border: 1px dashed var(--sklearn-color-line);\n",
              "  margin: 0 0.4em 0.5em 0.4em;\n",
              "  box-sizing: border-box;\n",
              "  padding-bottom: 0.4em;\n",
              "  background-color: var(--sklearn-color-background);\n",
              "}\n",
              "\n",
              "#sk-container-id-7 div.sk-container {\n",
              "  /* jupyter's `normalize.less` sets `[hidden] { display: none; }`\n",
              "     but bootstrap.min.css set `[hidden] { display: none !important; }`\n",
              "     so we also need the `!important` here to be able to override the\n",
              "     default hidden behavior on the sphinx rendered scikit-learn.org.\n",
              "     See: https://github.com/scikit-learn/scikit-learn/issues/21755 */\n",
              "  display: inline-block !important;\n",
              "  position: relative;\n",
              "}\n",
              "\n",
              "#sk-container-id-7 div.sk-text-repr-fallback {\n",
              "  display: none;\n",
              "}\n",
              "\n",
              "div.sk-parallel-item,\n",
              "div.sk-serial,\n",
              "div.sk-item {\n",
              "  /* draw centered vertical line to link estimators */\n",
              "  background-image: linear-gradient(var(--sklearn-color-text-on-default-background), var(--sklearn-color-text-on-default-background));\n",
              "  background-size: 2px 100%;\n",
              "  background-repeat: no-repeat;\n",
              "  background-position: center center;\n",
              "}\n",
              "\n",
              "/* Parallel-specific style estimator block */\n",
              "\n",
              "#sk-container-id-7 div.sk-parallel-item::after {\n",
              "  content: \"\";\n",
              "  width: 100%;\n",
              "  border-bottom: 2px solid var(--sklearn-color-text-on-default-background);\n",
              "  flex-grow: 1;\n",
              "}\n",
              "\n",
              "#sk-container-id-7 div.sk-parallel {\n",
              "  display: flex;\n",
              "  align-items: stretch;\n",
              "  justify-content: center;\n",
              "  background-color: var(--sklearn-color-background);\n",
              "  position: relative;\n",
              "}\n",
              "\n",
              "#sk-container-id-7 div.sk-parallel-item {\n",
              "  display: flex;\n",
              "  flex-direction: column;\n",
              "}\n",
              "\n",
              "#sk-container-id-7 div.sk-parallel-item:first-child::after {\n",
              "  align-self: flex-end;\n",
              "  width: 50%;\n",
              "}\n",
              "\n",
              "#sk-container-id-7 div.sk-parallel-item:last-child::after {\n",
              "  align-self: flex-start;\n",
              "  width: 50%;\n",
              "}\n",
              "\n",
              "#sk-container-id-7 div.sk-parallel-item:only-child::after {\n",
              "  width: 0;\n",
              "}\n",
              "\n",
              "/* Serial-specific style estimator block */\n",
              "\n",
              "#sk-container-id-7 div.sk-serial {\n",
              "  display: flex;\n",
              "  flex-direction: column;\n",
              "  align-items: center;\n",
              "  background-color: var(--sklearn-color-background);\n",
              "  padding-right: 1em;\n",
              "  padding-left: 1em;\n",
              "}\n",
              "\n",
              "\n",
              "/* Toggleable style: style used for estimator/Pipeline/ColumnTransformer box that is\n",
              "clickable and can be expanded/collapsed.\n",
              "- Pipeline and ColumnTransformer use this feature and define the default style\n",
              "- Estimators will overwrite some part of the style using the `sk-estimator` class\n",
              "*/\n",
              "\n",
              "/* Pipeline and ColumnTransformer style (default) */\n",
              "\n",
              "#sk-container-id-7 div.sk-toggleable {\n",
              "  /* Default theme specific background. It is overwritten whether we have a\n",
              "  specific estimator or a Pipeline/ColumnTransformer */\n",
              "  background-color: var(--sklearn-color-background);\n",
              "}\n",
              "\n",
              "/* Toggleable label */\n",
              "#sk-container-id-7 label.sk-toggleable__label {\n",
              "  cursor: pointer;\n",
              "  display: block;\n",
              "  width: 100%;\n",
              "  margin-bottom: 0;\n",
              "  padding: 0.5em;\n",
              "  box-sizing: border-box;\n",
              "  text-align: center;\n",
              "}\n",
              "\n",
              "#sk-container-id-7 label.sk-toggleable__label-arrow:before {\n",
              "  /* Arrow on the left of the label */\n",
              "  content: \"▸\";\n",
              "  float: left;\n",
              "  margin-right: 0.25em;\n",
              "  color: var(--sklearn-color-icon);\n",
              "}\n",
              "\n",
              "#sk-container-id-7 label.sk-toggleable__label-arrow:hover:before {\n",
              "  color: var(--sklearn-color-text);\n",
              "}\n",
              "\n",
              "/* Toggleable content - dropdown */\n",
              "\n",
              "#sk-container-id-7 div.sk-toggleable__content {\n",
              "  max-height: 0;\n",
              "  max-width: 0;\n",
              "  overflow: hidden;\n",
              "  text-align: left;\n",
              "  /* unfitted */\n",
              "  background-color: var(--sklearn-color-unfitted-level-0);\n",
              "}\n",
              "\n",
              "#sk-container-id-7 div.sk-toggleable__content.fitted {\n",
              "  /* fitted */\n",
              "  background-color: var(--sklearn-color-fitted-level-0);\n",
              "}\n",
              "\n",
              "#sk-container-id-7 div.sk-toggleable__content pre {\n",
              "  margin: 0.2em;\n",
              "  border-radius: 0.25em;\n",
              "  color: var(--sklearn-color-text);\n",
              "  /* unfitted */\n",
              "  background-color: var(--sklearn-color-unfitted-level-0);\n",
              "}\n",
              "\n",
              "#sk-container-id-7 div.sk-toggleable__content.fitted pre {\n",
              "  /* unfitted */\n",
              "  background-color: var(--sklearn-color-fitted-level-0);\n",
              "}\n",
              "\n",
              "#sk-container-id-7 input.sk-toggleable__control:checked~div.sk-toggleable__content {\n",
              "  /* Expand drop-down */\n",
              "  max-height: 200px;\n",
              "  max-width: 100%;\n",
              "  overflow: auto;\n",
              "}\n",
              "\n",
              "#sk-container-id-7 input.sk-toggleable__control:checked~label.sk-toggleable__label-arrow:before {\n",
              "  content: \"▾\";\n",
              "}\n",
              "\n",
              "/* Pipeline/ColumnTransformer-specific style */\n",
              "\n",
              "#sk-container-id-7 div.sk-label input.sk-toggleable__control:checked~label.sk-toggleable__label {\n",
              "  color: var(--sklearn-color-text);\n",
              "  background-color: var(--sklearn-color-unfitted-level-2);\n",
              "}\n",
              "\n",
              "#sk-container-id-7 div.sk-label.fitted input.sk-toggleable__control:checked~label.sk-toggleable__label {\n",
              "  background-color: var(--sklearn-color-fitted-level-2);\n",
              "}\n",
              "\n",
              "/* Estimator-specific style */\n",
              "\n",
              "/* Colorize estimator box */\n",
              "#sk-container-id-7 div.sk-estimator input.sk-toggleable__control:checked~label.sk-toggleable__label {\n",
              "  /* unfitted */\n",
              "  background-color: var(--sklearn-color-unfitted-level-2);\n",
              "}\n",
              "\n",
              "#sk-container-id-7 div.sk-estimator.fitted input.sk-toggleable__control:checked~label.sk-toggleable__label {\n",
              "  /* fitted */\n",
              "  background-color: var(--sklearn-color-fitted-level-2);\n",
              "}\n",
              "\n",
              "#sk-container-id-7 div.sk-label label.sk-toggleable__label,\n",
              "#sk-container-id-7 div.sk-label label {\n",
              "  /* The background is the default theme color */\n",
              "  color: var(--sklearn-color-text-on-default-background);\n",
              "}\n",
              "\n",
              "/* On hover, darken the color of the background */\n",
              "#sk-container-id-7 div.sk-label:hover label.sk-toggleable__label {\n",
              "  color: var(--sklearn-color-text);\n",
              "  background-color: var(--sklearn-color-unfitted-level-2);\n",
              "}\n",
              "\n",
              "/* Label box, darken color on hover, fitted */\n",
              "#sk-container-id-7 div.sk-label.fitted:hover label.sk-toggleable__label.fitted {\n",
              "  color: var(--sklearn-color-text);\n",
              "  background-color: var(--sklearn-color-fitted-level-2);\n",
              "}\n",
              "\n",
              "/* Estimator label */\n",
              "\n",
              "#sk-container-id-7 div.sk-label label {\n",
              "  font-family: monospace;\n",
              "  font-weight: bold;\n",
              "  display: inline-block;\n",
              "  line-height: 1.2em;\n",
              "}\n",
              "\n",
              "#sk-container-id-7 div.sk-label-container {\n",
              "  text-align: center;\n",
              "}\n",
              "\n",
              "/* Estimator-specific */\n",
              "#sk-container-id-7 div.sk-estimator {\n",
              "  font-family: monospace;\n",
              "  border: 1px dotted var(--sklearn-color-border-box);\n",
              "  border-radius: 0.25em;\n",
              "  box-sizing: border-box;\n",
              "  margin-bottom: 0.5em;\n",
              "  /* unfitted */\n",
              "  background-color: var(--sklearn-color-unfitted-level-0);\n",
              "}\n",
              "\n",
              "#sk-container-id-7 div.sk-estimator.fitted {\n",
              "  /* fitted */\n",
              "  background-color: var(--sklearn-color-fitted-level-0);\n",
              "}\n",
              "\n",
              "/* on hover */\n",
              "#sk-container-id-7 div.sk-estimator:hover {\n",
              "  /* unfitted */\n",
              "  background-color: var(--sklearn-color-unfitted-level-2);\n",
              "}\n",
              "\n",
              "#sk-container-id-7 div.sk-estimator.fitted:hover {\n",
              "  /* fitted */\n",
              "  background-color: var(--sklearn-color-fitted-level-2);\n",
              "}\n",
              "\n",
              "/* Specification for estimator info (e.g. \"i\" and \"?\") */\n",
              "\n",
              "/* Common style for \"i\" and \"?\" */\n",
              "\n",
              ".sk-estimator-doc-link,\n",
              "a:link.sk-estimator-doc-link,\n",
              "a:visited.sk-estimator-doc-link {\n",
              "  float: right;\n",
              "  font-size: smaller;\n",
              "  line-height: 1em;\n",
              "  font-family: monospace;\n",
              "  background-color: var(--sklearn-color-background);\n",
              "  border-radius: 1em;\n",
              "  height: 1em;\n",
              "  width: 1em;\n",
              "  text-decoration: none !important;\n",
              "  margin-left: 1ex;\n",
              "  /* unfitted */\n",
              "  border: var(--sklearn-color-unfitted-level-1) 1pt solid;\n",
              "  color: var(--sklearn-color-unfitted-level-1);\n",
              "}\n",
              "\n",
              ".sk-estimator-doc-link.fitted,\n",
              "a:link.sk-estimator-doc-link.fitted,\n",
              "a:visited.sk-estimator-doc-link.fitted {\n",
              "  /* fitted */\n",
              "  border: var(--sklearn-color-fitted-level-1) 1pt solid;\n",
              "  color: var(--sklearn-color-fitted-level-1);\n",
              "}\n",
              "\n",
              "/* On hover */\n",
              "div.sk-estimator:hover .sk-estimator-doc-link:hover,\n",
              ".sk-estimator-doc-link:hover,\n",
              "div.sk-label-container:hover .sk-estimator-doc-link:hover,\n",
              ".sk-estimator-doc-link:hover {\n",
              "  /* unfitted */\n",
              "  background-color: var(--sklearn-color-unfitted-level-3);\n",
              "  color: var(--sklearn-color-background);\n",
              "  text-decoration: none;\n",
              "}\n",
              "\n",
              "div.sk-estimator.fitted:hover .sk-estimator-doc-link.fitted:hover,\n",
              ".sk-estimator-doc-link.fitted:hover,\n",
              "div.sk-label-container:hover .sk-estimator-doc-link.fitted:hover,\n",
              ".sk-estimator-doc-link.fitted:hover {\n",
              "  /* fitted */\n",
              "  background-color: var(--sklearn-color-fitted-level-3);\n",
              "  color: var(--sklearn-color-background);\n",
              "  text-decoration: none;\n",
              "}\n",
              "\n",
              "/* Span, style for the box shown on hovering the info icon */\n",
              ".sk-estimator-doc-link span {\n",
              "  display: none;\n",
              "  z-index: 9999;\n",
              "  position: relative;\n",
              "  font-weight: normal;\n",
              "  right: .2ex;\n",
              "  padding: .5ex;\n",
              "  margin: .5ex;\n",
              "  width: min-content;\n",
              "  min-width: 20ex;\n",
              "  max-width: 50ex;\n",
              "  color: var(--sklearn-color-text);\n",
              "  box-shadow: 2pt 2pt 4pt #999;\n",
              "  /* unfitted */\n",
              "  background: var(--sklearn-color-unfitted-level-0);\n",
              "  border: .5pt solid var(--sklearn-color-unfitted-level-3);\n",
              "}\n",
              "\n",
              ".sk-estimator-doc-link.fitted span {\n",
              "  /* fitted */\n",
              "  background: var(--sklearn-color-fitted-level-0);\n",
              "  border: var(--sklearn-color-fitted-level-3);\n",
              "}\n",
              "\n",
              ".sk-estimator-doc-link:hover span {\n",
              "  display: block;\n",
              "}\n",
              "\n",
              "/* \"?\"-specific style due to the `<a>` HTML tag */\n",
              "\n",
              "#sk-container-id-7 a.estimator_doc_link {\n",
              "  float: right;\n",
              "  font-size: 1rem;\n",
              "  line-height: 1em;\n",
              "  font-family: monospace;\n",
              "  background-color: var(--sklearn-color-background);\n",
              "  border-radius: 1rem;\n",
              "  height: 1rem;\n",
              "  width: 1rem;\n",
              "  text-decoration: none;\n",
              "  /* unfitted */\n",
              "  color: var(--sklearn-color-unfitted-level-1);\n",
              "  border: var(--sklearn-color-unfitted-level-1) 1pt solid;\n",
              "}\n",
              "\n",
              "#sk-container-id-7 a.estimator_doc_link.fitted {\n",
              "  /* fitted */\n",
              "  border: var(--sklearn-color-fitted-level-1) 1pt solid;\n",
              "  color: var(--sklearn-color-fitted-level-1);\n",
              "}\n",
              "\n",
              "/* On hover */\n",
              "#sk-container-id-7 a.estimator_doc_link:hover {\n",
              "  /* unfitted */\n",
              "  background-color: var(--sklearn-color-unfitted-level-3);\n",
              "  color: var(--sklearn-color-background);\n",
              "  text-decoration: none;\n",
              "}\n",
              "\n",
              "#sk-container-id-7 a.estimator_doc_link.fitted:hover {\n",
              "  /* fitted */\n",
              "  background-color: var(--sklearn-color-fitted-level-3);\n",
              "}\n",
              "</style><div id=\"sk-container-id-7\" class=\"sk-top-container\"><div class=\"sk-text-repr-fallback\"><pre>LogisticRegression(random_state=42)</pre><b>In a Jupyter environment, please rerun this cell to show the HTML representation or trust the notebook. <br />On GitHub, the HTML representation is unable to render, please try loading this page with nbviewer.org.</b></div><div class=\"sk-container\" hidden><div class=\"sk-item\"><div class=\"sk-estimator fitted sk-toggleable\"><input class=\"sk-toggleable__control sk-hidden--visually\" id=\"sk-estimator-id-7\" type=\"checkbox\" checked><label for=\"sk-estimator-id-7\" class=\"sk-toggleable__label fitted sk-toggleable__label-arrow fitted\">&nbsp;&nbsp;LogisticRegression<a class=\"sk-estimator-doc-link fitted\" rel=\"noreferrer\" target=\"_blank\" href=\"https://scikit-learn.org/1.5/modules/generated/sklearn.linear_model.LogisticRegression.html\">?<span>Documentation for LogisticRegression</span></a><span class=\"sk-estimator-doc-link fitted\">i<span>Fitted</span></span></label><div class=\"sk-toggleable__content fitted\"><pre>LogisticRegression(random_state=42)</pre></div> </div></div></div></div>"
            ]
          },
          "metadata": {},
          "execution_count": 208
        }
      ]
    },
    {
      "cell_type": "code",
      "source": [
        "# Realizar predicciones\n",
        "y_pred = modelo.predict(X_test)\n"
      ],
      "metadata": {
        "id": "xQKYhjdrdfX6"
      },
      "execution_count": 209,
      "outputs": []
    },
    {
      "cell_type": "code",
      "source": [
        "# Calcular la matriz de confusión\n",
        "conf_matrix = confusion_matrix(y_test, y_pred)\n",
        "\n",
        "# Visualizar la matriz de confusión usando seaborn\n",
        "plt.figure(figsize=(6, 4))\n",
        "sns.heatmap(conf_matrix, annot=True, fmt='d', cmap='Blues', cbar=False)\n",
        "plt.xlabel('Predicciones')\n",
        "plt.ylabel('Valores reales')\n",
        "plt.title('Matriz de Confusión')\n",
        "plt.show()\n",
        "# Imprimir el reporte de clasificación\n",
        "print(classification_report(y_test, y_pred))\n",
        "\n",
        "# Calcular la exactitud (accuracy)\n",
        "accuracy = accuracy_score(y_test, y_pred)\n",
        "print(f'Exactitud del modelo: {accuracy:.2f}')"
      ],
      "metadata": {
        "colab": {
          "base_uri": "https://localhost:8080/",
          "height": 595
        },
        "id": "jtVVEVxHdh-z",
        "outputId": "f68f4127-fca9-4328-9704-75f724fc81cc"
      },
      "execution_count": 210,
      "outputs": [
        {
          "output_type": "display_data",
          "data": {
            "text/plain": [
              "<Figure size 600x400 with 1 Axes>"
            ],
            "image/png": "[encoded data removed]"
          },
          "metadata": {}
        },
        {
          "output_type": "stream",
          "name": "stdout",
          "text": [
            "              precision    recall  f1-score   support\n",
            "\n",
            "           0       0.67      0.62      0.64       144\n",
            "           1       0.64      0.69      0.66       141\n",
            "\n",
            "    accuracy                           0.65       285\n",
            "   macro avg       0.65      0.65      0.65       285\n",
            "weighted avg       0.65      0.65      0.65       285\n",
            "\n",
            "Exactitud del modelo: 0.65\n"
          ]
        }
      ]
    },
    {
      "cell_type": "code",
      "source": [
        "# Realizar predicciones en el conjunto de entrenamiento\n",
        "y_train_pred = modelo.predict(X_train)\n",
        "\n",
        "# Calcular y mostrar la exactitud en el conjunto de entrenamiento\n",
        "train_accuracy = accuracy_score(y_train, y_train_pred)\n",
        "print(f'Exactitud en el conjunto de entrenamiento: {train_accuracy:.2f}')\n",
        "# Calcular y mostrar la exactitud del modelo\n",
        "accuracy = accuracy_score(y_test, y_pred)\n",
        "print(f'Exactitud del modelo en el conjunto de prueba: {accuracy:.2f}')"
      ],
      "metadata": {
        "colab": {
          "base_uri": "https://localhost:8080/"
        },
        "id": "LyYG75bGBPis",
        "outputId": "4bc8a9f1-42f8-427e-9ae9-212a454e0131"
      },
      "execution_count": 211,
      "outputs": [
        {
          "output_type": "stream",
          "name": "stdout",
          "text": [
            "Exactitud en el conjunto de entrenamiento: 0.74\n",
            "Exactitud del modelo en el conjunto de prueba: 0.65\n"
          ]
        }
      ]
    },
    {
      "cell_type": "code",
      "source": [
        "# Obtener los coeficientes del modelo\n",
        "coeficientes = modelo.coef_[0]\n",
        "\n",
        "# Crear un DataFrame para visualizar los coeficientes\n",
        "features = X_train.columns\n",
        "coef_df = pd.DataFrame({'Feature': features, 'Coefficient': coeficientes})\n",
        "\n",
        "# Ordenar los coeficientes por su valor (de mayor a menor)\n",
        "coef_df = coef_df.sort_values(by='Coefficient', ascending=False)\n",
        "\n",
        "# Mostrar todos los coeficientes\n",
        "pd.set_option('display.max_rows', None)  # Esto asegura que se muestren todas las filas\n",
        "print(coef_df)\n",
        "\n"
      ],
      "metadata": {
        "colab": {
          "base_uri": "https://localhost:8080/"
        },
        "id": "TVqJwZ8VdkP7",
        "outputId": "5714d2f1-232b-4698-c9d2-93ab78f9b56b"
      },
      "execution_count": 212,
      "outputs": [
        {
          "output_type": "stream",
          "name": "stdout",
          "text": [
            "                               Feature  Coefficient\n",
            "18               marital_status_single     1.111736\n",
            "4      education_field_human_resources     1.064158\n",
            "0           business_travel_frequently     1.006388\n",
            "44        rango_años_en_la_empresa_0_3     0.920539\n",
            "32                     rango_age_18_25     0.751776\n",
            "13          job_role_research_director     0.748893\n",
            "6            education_field_marketing     0.524860\n",
            "5        education_field_life_sciences     0.394734\n",
            "41              rango_mismo_jefe_13_17     0.373087\n",
            "27               rango_num_companies_9     0.345557\n",
            "7              education_field_medical     0.344592\n",
            "50              rango_ingresos_40k_70k     0.343726\n",
            "28               rango_experiencia_0_7     0.324407\n",
            "17              marital_status_married     0.311905\n",
            "1               business_travel_rarely     0.311298\n",
            "37          rango_ultimo_ascenso_12_15     0.305763\n",
            "16       job_role_sales_representative     0.272705\n",
            "42                rango_mismo_jefe_5_8     0.208897\n",
            "53          rango_distancia_intermedio     0.201120\n",
            "46        rango_años_en_la_empresa_20+     0.172909\n",
            "26             rango_num_companies_6_8     0.153666\n",
            "14         job_role_research_scientist     0.141851\n",
            "57          rango_percent_salary_19_21     0.125356\n",
            "52               rango_distancia_cerca     0.088149\n",
            "39           rango_ultimo_ascenso_8_11     0.081068\n",
            "38            rango_ultimo_ascenso_4_7     0.077227\n",
            "35                     rango_age_49_60     0.040221\n",
            "56          rango_percent_salary_15_18     0.035644\n",
            "30             rango_experiencia_31_40     0.013753\n",
            "48              rango_ingresos_10k_40k     0.009560\n",
            "23               education_universidad     0.002839\n",
            "19                         gender_male     0.000981\n",
            "25             rango_num_companies_3_5     0.000147\n",
            "8     education_field_technical_degree    -0.023146\n",
            "58          rango_percent_salary_22_25    -0.045303\n",
            "31              rango_experiencia_8_16    -0.055132\n",
            "49            rango_ingresos_120k_200k    -0.057256\n",
            "55          rango_percent_salary_11_14    -0.062102\n",
            "10      job_role_laboratory_technician    -0.081475\n",
            "43               rango_mismo_jefe_9_12    -0.129155\n",
            "33                     rango_age_26_35    -0.141521\n",
            "15            job_role_sales_executive    -0.144140\n",
            "47       rango_años_en_la_empresa_4_10    -0.152198\n",
            "21              education_licenciatura    -0.153880\n",
            "9   job_role_healthcare_representative    -0.184697\n",
            "22                  education_maestría    -0.186564\n",
            "29             rango_experiencia_17_30    -0.229435\n",
            "54               rango_distancia_lejos    -0.235675\n",
            "51             rango_ingresos_70k_120k    -0.242437\n",
            "40                rango_mismo_jefe_0_4    -0.399236\n",
            "36            rango_ultimo_ascenso_0_3    -0.410464\n",
            "24             rango_num_companies_0_2    -0.445776\n",
            "34                     rango_age_36_48    -0.596883\n",
            "20                 education_doctorado    -0.607420\n",
            "11                    job_role_manager    -0.632206\n",
            "2    department_research_&_development    -0.801460\n",
            "3                     department_sales    -0.812066\n",
            "45      rango_años_en_la_empresa_11_20    -0.887656\n",
            "12     job_role_manufacturing_director    -0.908041\n"
          ]
        }
      ]
    },
    {
      "cell_type": "code",
      "source": [
        "## Calcular la curva ROC y AUC\n",
        "\n",
        "# Obtener las probabilidades de predicción para el conjunto de prueba\n",
        "y_prob_test = modelo.predict_proba(X_test)[:, 1]  # Probabilidad para la clase positiva (1)\n",
        "\n",
        "# Obtener las probabilidades de predicción para el conjunto de entrenamiento\n",
        "y_prob_train = modelo.predict_proba(X_train)[:, 1]  # Probabilidad para la clase positiva (1)\n",
        "\n",
        "# Calcular la curva ROC y AUC para el conjunto de prueba\n",
        "fpr_test, tpr_test, _ = roc_curve(y_test, y_prob_test)\n",
        "auc_test = roc_auc_score(y_test, y_prob_test)\n",
        "\n",
        "# Calcular la curva ROC y AUC para el conjunto de entrenamiento\n",
        "fpr_train, tpr_train, _ = roc_curve(y_train, y_prob_train)\n",
        "auc_train = roc_auc_score(y_train, y_prob_train)\n",
        "\n",
        "# Graficar ambas curvas ROC\n",
        "plt.figure(figsize=(8, 6))\n",
        "\n",
        "# Curva ROC para el conjunto de prueba\n",
        "plt.plot(fpr_test, tpr_test, label=f'Test AUC = {auc_test:.2f}', color='green')\n",
        "\n",
        "# Curva ROC para el conjunto de entrenamiento\n",
        "plt.plot(fpr_train, tpr_train, label=f'Train AUC = {auc_train:.2f}', color='blue')\n",
        "\n",
        "# Línea de referencia para un modelo aleatorio\n",
        "plt.plot([0, 1], [0, 1], 'k--')\n",
        "\n",
        "# Configurar el gráfico\n",
        "plt.xlim([0.0, 1.0])\n",
        "plt.ylim([0.0, 1.05])\n",
        "plt.xlabel('Tasa de Falsos Positivos (FPR)')\n",
        "plt.ylabel('Tasa de Verdaderos Positivos (TPR)')\n",
        "plt.title('Curvas ROC para Entrenamiento y Prueba')\n",
        "plt.legend(loc=\"lower right\")\n",
        "plt.show()\n"
      ],
      "metadata": {
        "colab": {
          "base_uri": "https://localhost:8080/",
          "height": 511
        },
        "id": "CvZjHj0cY-Kn",
        "outputId": "6500ba69-e339-4089-ea32-417ee61414c9"
      },
      "execution_count": 213,
      "outputs": [
        {
          "output_type": "display_data",
          "data": {
            "text/plain": [
              "<Figure size 800x600 with 1 Axes>"
            ],
            "image/png": "[encoded data removed]"
          },
          "metadata": {}
        }
      ]
    },
    {
      "cell_type": "markdown",
      "source": [
        "LogisticRegression con balanceo tipo undersampling con variables seleccionadas"
      ],
      "metadata": {
        "id": "4e9TnmCkLeK9"
      }
    },
    {
      "cell_type": "code",
      "source": [
        "df = pd.read_csv('/content/datos_dummy.csv')"
      ],
      "metadata": {
        "id": "I2XTSp03K0g8"
      },
      "execution_count": 214,
      "outputs": []
    },
    {
      "cell_type": "code",
      "source": [
        "# Lista de variables que quieres mantener\n",
        "selected_columns = [\n",
        "    'rango_años_en_la_empresa_0_3',\n",
        "    'marital_status_single',\n",
        "    'gender_male',\n",
        "    'rango_age_36_48',\n",
        "    'education_licenciatura',\n",
        "    'rango_percent_salary_15_18',\n",
        "    'rango_experiencia_8_16',\n",
        "    'education_universidad',\n",
        "    'education_field_medical',\n",
        "    'rango_percent_salary_11_14',\n",
        "    'rango_num_companies_3_5',\n",
        "    'department_research_&_development',\n",
        "    'job_role_research_scientist',\n",
        "    'job_role_sales_executive',\n",
        "    'rango_ingresos_10k_40k',\n",
        "    'business_travel_frequently',\n",
        "    \"attrition_yes\"\n",
        "]\n",
        "\n",
        "\n",
        "# Filtrar el DataFrame para quedarse solo con esas columnas\n",
        "df_filtered = df[selected_columns]\n",
        "\n",
        "# Verificar que se seleccionaron correctamente las columnas\n",
        "print(df_filtered.head())\n"
      ],
      "metadata": {
        "colab": {
          "base_uri": "https://localhost:8080/"
        },
        "id": "QEEMNlIOK568",
        "outputId": "81db0f7c-1ecc-4e3f-c272-3a9a294f1269"
      },
      "execution_count": 215,
      "outputs": [
        {
          "output_type": "stream",
          "name": "stdout",
          "text": [
            "   rango_años_en_la_empresa_0_3  marital_status_single  gender_male  \\\n",
            "0                             1                      0            0   \n",
            "1                             0                      1            0   \n",
            "2                             0                      0            1   \n",
            "3                             0                      0            1   \n",
            "4                             0                      1            1   \n",
            "\n",
            "   rango_age_36_48  education_licenciatura  rango_percent_salary_15_18  \\\n",
            "0                0                       0                           0   \n",
            "1                0                       0                           0   \n",
            "2                0                       0                           1   \n",
            "3                1                       0                           0   \n",
            "4                0                       0                           0   \n",
            "\n",
            "   rango_experiencia_8_16  education_universidad  education_field_medical  \\\n",
            "0                       0                      1                        0   \n",
            "1                       0                      0                        0   \n",
            "2                       0                      0                        0   \n",
            "3                       1                      0                        0   \n",
            "4                       1                      0                        1   \n",
            "\n",
            "   rango_percent_salary_11_14  rango_num_companies_3_5  \\\n",
            "0                           1                        0   \n",
            "1                           0                        0   \n",
            "2                           0                        0   \n",
            "3                           1                        1   \n",
            "4                           1                        1   \n",
            "\n",
            "   department_research_&_development  job_role_research_scientist  \\\n",
            "0                                  0                            0   \n",
            "1                                  1                            1   \n",
            "2                                  1                            0   \n",
            "3                                  1                            0   \n",
            "4                                  1                            0   \n",
            "\n",
            "   job_role_sales_executive  rango_ingresos_10k_40k  \\\n",
            "0                         0                       0   \n",
            "1                         0                       0   \n",
            "2                         1                       0   \n",
            "3                         0                       0   \n",
            "4                         1                       1   \n",
            "\n",
            "   business_travel_frequently  attrition_yes  \n",
            "0                           0              0  \n",
            "1                           1              1  \n",
            "2                           1              0  \n",
            "3                           0              0  \n",
            "4                           0              0  \n"
          ]
        }
      ]
    },
    {
      "cell_type": "code",
      "source": [
        "# Separar las clases\n",
        "df_majority = df_filtered[df_filtered.attrition_yes == 0]\n",
        "df_minority = df_filtered[df_filtered.attrition_yes == 1]"
      ],
      "metadata": {
        "id": "zgEqaCzxLT7T"
      },
      "execution_count": 216,
      "outputs": []
    },
    {
      "cell_type": "code",
      "source": [
        "# Realizar undersampling en la clase mayoritaria para igualar el tamaño de la clase minoritaria\n",
        "df_majority_downsampled = resample(df_majority,\n",
        "                                   replace=False,  # Sin reemplazo\n",
        "                                   n_samples=len(df_minority),  # Igualar tamaño a la clase minoritaria\n",
        "                                   random_state=123)  # Para reproducibilidad"
      ],
      "metadata": {
        "id": "skSQgSPELY4z"
      },
      "execution_count": 217,
      "outputs": []
    },
    {
      "cell_type": "code",
      "source": [
        "# Combinar las clases balanceadas\n",
        "datos_3 = pd.concat([df_majority_downsampled, df_minority])\n",
        "# Verificar el balance de clases\n",
        "print(datos_3.attrition_yes.value_counts())"
      ],
      "metadata": {
        "colab": {
          "base_uri": "https://localhost:8080/"
        },
        "id": "asFIB9PSLaTr",
        "outputId": "623b08a8-ee64-49f1-9b87-90d317f37ead"
      },
      "execution_count": 218,
      "outputs": [
        {
          "output_type": "stream",
          "name": "stdout",
          "text": [
            "attrition_yes\n",
            "0    711\n",
            "1    711\n",
            "Name: count, dtype: int64\n"
          ]
        }
      ]
    },
    {
      "cell_type": "code",
      "source": [
        "# Separar características (X) y la variable objetivo (y)\n",
        "X = datos_3.drop(columns=['attrition_yes'])  # Eliminar la variable objetivo de las características\n",
        "y = datos_3['attrition_yes']  # Variable objetivo\n",
        "\n",
        "# Dividir el conjunto de datos en entrenamiento y prueba (80% entrenamiento, 20% prueba)\n",
        "X_train, X_test, y_train, y_test = train_test_split(X, y, test_size=0.2, random_state=42)"
      ],
      "metadata": {
        "id": "eYASPgWwLf2D"
      },
      "execution_count": 219,
      "outputs": []
    },
    {
      "cell_type": "code",
      "source": [
        "# Crear el modelo de regresión logística\n",
        "modelo = LogisticRegression(random_state=42)\n",
        "\n",
        "# Entrenar el modelo con los datos de entrenamiento\n",
        "modelo.fit(X_train, y_train)\n",
        "\n",
        "# Realizar predicciones\n",
        "y_pred = modelo.predict(X_test)\n",
        "\n",
        "\n",
        "# Calcular la matriz de confusión\n",
        "conf_matrix = confusion_matrix(y_test, y_pred)\n",
        "\n",
        "# Visualizar la matriz de confusión usando seaborn\n",
        "plt.figure(figsize=(6, 4))\n",
        "sns.heatmap(conf_matrix, annot=True, fmt='d', cmap='Blues', cbar=False)\n",
        "plt.xlabel('Predicciones')\n",
        "plt.ylabel('Valores reales')\n",
        "plt.title('Matriz de Confusión')\n",
        "plt.show()\n",
        "# Imprimir el reporte de clasificación\n",
        "print(classification_report(y_test, y_pred))"
      ],
      "metadata": {
        "colab": {
          "base_uri": "https://localhost:8080/",
          "height": 576
        },
        "id": "XF5aQNVeLgj8",
        "outputId": "7d939f29-2a19-47cb-f52b-0f1f6865c1c5"
      },
      "execution_count": 220,
      "outputs": [
        {
          "output_type": "display_data",
          "data": {
            "text/plain": [
              "<Figure size 600x400 with 1 Axes>"
            ],
            "image/png": "[encoded data removed]"
          },
          "metadata": {}
        },
        {
          "output_type": "stream",
          "name": "stdout",
          "text": [
            "              precision    recall  f1-score   support\n",
            "\n",
            "           0       0.63      0.58      0.61       144\n",
            "           1       0.61      0.65      0.63       141\n",
            "\n",
            "    accuracy                           0.62       285\n",
            "   macro avg       0.62      0.62      0.62       285\n",
            "weighted avg       0.62      0.62      0.62       285\n",
            "\n"
          ]
        }
      ]
    },
    {
      "cell_type": "code",
      "source": [
        "# Realizar predicciones en el conjunto de entrenamiento\n",
        "y_train_pred = modelo.predict(X_train)\n",
        "\n",
        "# Calcular y mostrar la exactitud en el conjunto de entrenamiento\n",
        "train_accuracy = accuracy_score(y_train, y_train_pred)\n",
        "print(f'Exactitud en el conjunto de entrenamiento: {train_accuracy:.2f}')\n",
        "# Calcular y mostrar la exactitud del modelo\n",
        "accuracy = accuracy_score(y_test, y_pred)\n",
        "print(f'Exactitud del modelo en el conjunto de prueba: {accuracy:.2f}')"
      ],
      "metadata": {
        "colab": {
          "base_uri": "https://localhost:8080/"
        },
        "id": "Mw3sM_5CLfuU",
        "outputId": "ca1f0005-e245-4276-877c-1fc19fd23939"
      },
      "execution_count": 221,
      "outputs": [
        {
          "output_type": "stream",
          "name": "stdout",
          "text": [
            "Exactitud en el conjunto de entrenamiento: 0.66\n",
            "Exactitud del modelo en el conjunto de prueba: 0.62\n"
          ]
        }
      ]
    },
    {
      "cell_type": "code",
      "source": [
        "# Obtener los coeficientes del modelo\n",
        "coeficientes = modelo.coef_[0]\n",
        "\n",
        "# Crear un DataFrame para visualizar los coeficientes\n",
        "features = X_train.columns\n",
        "coef_df = pd.DataFrame({'Feature': features, 'Coefficient': coeficientes})\n",
        "\n",
        "# Ordenar los coeficientes por su valor (de mayor a menor)\n",
        "coef_df = coef_df.sort_values(by='Coefficient', ascending=False)\n",
        "\n",
        "# Mostrar todos los coeficientes\n",
        "pd.set_option('display.max_rows', None)  # Esto asegura que se muestren todas las filas\n",
        "print(coef_df)"
      ],
      "metadata": {
        "colab": {
          "base_uri": "https://localhost:8080/"
        },
        "id": "P_revdr0Ltu7",
        "outputId": "fc9bf4b8-055e-426e-cada-d6717319e547"
      },
      "execution_count": 222,
      "outputs": [
        {
          "output_type": "stream",
          "name": "stdout",
          "text": [
            "                              Feature  Coefficient\n",
            "0        rango_años_en_la_empresa_0_3     0.948998\n",
            "1               marital_status_single     0.924626\n",
            "15         business_travel_frequently     0.635375\n",
            "12        job_role_research_scientist     0.211746\n",
            "10            rango_num_companies_3_5     0.125750\n",
            "7               education_universidad     0.121646\n",
            "13           job_role_sales_executive     0.042908\n",
            "4              education_licenciatura    -0.003153\n",
            "8             education_field_medical    -0.009405\n",
            "2                         gender_male    -0.027116\n",
            "14             rango_ingresos_10k_40k    -0.118458\n",
            "6              rango_experiencia_8_16    -0.125844\n",
            "5          rango_percent_salary_15_18    -0.177644\n",
            "11  department_research_&_development    -0.219054\n",
            "9          rango_percent_salary_11_14    -0.247776\n",
            "3                     rango_age_36_48    -0.639978\n"
          ]
        }
      ]
    },
    {
      "cell_type": "code",
      "source": [
        "# Obtener las probabilidades de predicción para el conjunto de prueba\n",
        "y_prob_test = modelo.predict_proba(X_test)[:, 1]  # Probabilidad para la clase positiva (1)\n",
        "\n",
        "# Obtener las probabilidades de predicción para el conjunto de entrenamiento\n",
        "y_prob_train = modelo.predict_proba(X_train)[:, 1]  # Probabilidad para la clase positiva (1)\n",
        "\n",
        "# Calcular la curva ROC y AUC para el conjunto de prueba\n",
        "fpr_test, tpr_test, _ = roc_curve(y_test, y_prob_test)\n",
        "auc_test = roc_auc_score(y_test, y_prob_test)\n",
        "\n",
        "# Calcular la curva ROC y AUC para el conjunto de entrenamiento\n",
        "fpr_train, tpr_train, _ = roc_curve(y_train, y_prob_train)\n",
        "auc_train = roc_auc_score(y_train, y_prob_train)\n",
        "\n",
        "# Graficar ambas curvas ROC\n",
        "plt.figure(figsize=(8, 6))\n",
        "\n",
        "# Curva ROC para el conjunto de prueba\n",
        "plt.plot(fpr_test, tpr_test, label=f'Test AUC = {auc_test:.2f}', color='green')\n",
        "\n",
        "# Curva ROC para el conjunto de entrenamiento\n",
        "plt.plot(fpr_train, tpr_train, label=f'Train AUC = {auc_train:.2f}', color='blue')\n",
        "\n",
        "# Línea de referencia para un modelo aleatorio\n",
        "plt.plot([0, 1], [0, 1], 'k--')\n",
        "\n",
        "# Configurar el gráfico\n",
        "plt.xlim([0.0, 1.0])\n",
        "plt.ylim([0.0, 1.05])\n",
        "plt.xlabel('Tasa de Falsos Positivos (FPR)')\n",
        "plt.ylabel('Tasa de Verdaderos Positivos (TPR)')\n",
        "plt.title('Curvas ROC para Entrenamiento y Prueba')\n",
        "plt.legend(loc=\"lower right\")\n",
        "plt.show()\n",
        "\n",
        "\n"
      ],
      "metadata": {
        "id": "ObM6sCFLMxlE",
        "colab": {
          "base_uri": "https://localhost:8080/",
          "height": 511
        },
        "outputId": "418e7591-9305-4b18-83fc-fe4e59960521"
      },
      "execution_count": 223,
      "outputs": [
        {
          "output_type": "display_data",
          "data": {
            "text/plain": [
              "<Figure size 800x600 with 1 Axes>"
            ],
            "image/png": "[encoded data removed]"
          },
          "metadata": {}
        }
      ]
    },
    {
      "cell_type": "markdown",
      "source": [
        "LogisticRegression con balanceo de datos SMOTE"
      ],
      "metadata": {
        "id": "8T1Cf2Q1L6n8"
      }
    },
    {
      "cell_type": "code",
      "source": [
        "df = pd.read_csv('/content/datos_dummy.csv')"
      ],
      "metadata": {
        "id": "8_fvmwqJlRPn"
      },
      "execution_count": 224,
      "outputs": []
    },
    {
      "cell_type": "code",
      "source": [
        "# Ver la distribución de la variable objetivo\n",
        "print(\"Distribución de la variable objetivo:\")\n",
        "print(df['attrition_yes'].value_counts())"
      ],
      "metadata": {
        "id": "5Sv9FpMelWQd",
        "colab": {
          "base_uri": "https://localhost:8080/"
        },
        "outputId": "12263005-76bd-44ee-aa9c-521d9aa52e01"
      },
      "execution_count": 225,
      "outputs": [
        {
          "output_type": "stream",
          "name": "stdout",
          "text": [
            "Distribución de la variable objetivo:\n",
            "attrition_yes\n",
            "0    3699\n",
            "1     711\n",
            "Name: count, dtype: int64\n"
          ]
        }
      ]
    },
    {
      "cell_type": "code",
      "source": [
        "# Dividir en características (X) y variable objetivo (y)\n",
        "X = df.drop('attrition_yes', axis=1)\n",
        "y = df['attrition_yes']"
      ],
      "metadata": {
        "id": "zJx0fWpBHxlJ"
      },
      "execution_count": 226,
      "outputs": []
    },
    {
      "cell_type": "code",
      "source": [
        "# Dividir en conjuntos de entrenamiento y prueba\n",
        "X_train, X_test, y_train, y_test = train_test_split(X, y, test_size=0.3, random_state=42)"
      ],
      "metadata": {
        "id": "SyqGBJfGH1wv"
      },
      "execution_count": 227,
      "outputs": []
    },
    {
      "cell_type": "code",
      "source": [
        "# Aplicar SMOTE para balancear el conjunto de entrenamiento\n",
        "smote = SMOTE(random_state=42)\n",
        "X_train_resampled, y_train_resampled = smote.fit_resample(X_train, y_train)"
      ],
      "metadata": {
        "id": "kB9CcyTVH5In"
      },
      "execution_count": 228,
      "outputs": []
    },
    {
      "cell_type": "code",
      "source": [
        "# Ver las nuevas distribuciones de las clases\n",
        "print(\"Distribución de la variable objetivo después de SMOTE:\")\n",
        "print(pd.Series(y_train_resampled).value_counts())"
      ],
      "metadata": {
        "colab": {
          "base_uri": "https://localhost:8080/"
        },
        "id": "3hm0xeUmH7xe",
        "outputId": "a127d264-d3f9-4919-f8d6-4ebcc6857b92"
      },
      "execution_count": 229,
      "outputs": [
        {
          "output_type": "stream",
          "name": "stdout",
          "text": [
            "Distribución de la variable objetivo después de SMOTE:\n",
            "attrition_yes\n",
            "0    2584\n",
            "1    2584\n",
            "Name: count, dtype: int64\n"
          ]
        }
      ]
    },
    {
      "cell_type": "code",
      "source": [
        "# Crear el clasificador de regresión logística\n",
        "model = LogisticRegression(random_state=42)"
      ],
      "metadata": {
        "id": "2cD3NQQDH-Rm"
      },
      "execution_count": 230,
      "outputs": []
    },
    {
      "cell_type": "code",
      "source": [
        "# Entrenar el modelo con el conjunto de datos balanceado\n",
        "model.fit(X_train_resampled, y_train_resampled)"
      ],
      "metadata": {
        "colab": {
          "base_uri": "https://localhost:8080/",
          "height": 80
        },
        "id": "Z9qMSireIAiO",
        "outputId": "3fbe77c5-aa04-4dd4-acb1-d3899fdd4327"
      },
      "execution_count": 231,
      "outputs": [
        {
          "output_type": "execute_result",
          "data": {
            "text/plain": [
              "LogisticRegression(random_state=42)"
            ],
            "text/html": [
              "<style>#sk-container-id-8 {\n",
              "  /* Definition of color scheme common for light and dark mode */\n",
              "  --sklearn-color-text: black;\n",
              "  --sklearn-color-line: gray;\n",
              "  /* Definition of color scheme for unfitted estimators */\n",
              "  --sklearn-color-unfitted-level-0: #fff5e6;\n",
              "  --sklearn-color-unfitted-level-1: #f6e4d2;\n",
              "  --sklearn-color-unfitted-level-2: #ffe0b3;\n",
              "  --sklearn-color-unfitted-level-3: chocolate;\n",
              "  /* Definition of color scheme for fitted estimators */\n",
              "  --sklearn-color-fitted-level-0: #f0f8ff;\n",
              "  --sklearn-color-fitted-level-1: #d4ebff;\n",
              "  --sklearn-color-fitted-level-2: #b3dbfd;\n",
              "  --sklearn-color-fitted-level-3: cornflowerblue;\n",
              "\n",
              "  /* Specific color for light theme */\n",
              "  --sklearn-color-text-on-default-background: var(--sg-text-color, var(--theme-code-foreground, var(--jp-content-font-color1, black)));\n",
              "  --sklearn-color-background: var(--sg-background-color, var(--theme-background, var(--jp-layout-color0, white)));\n",
              "  --sklearn-color-border-box: var(--sg-text-color, var(--theme-code-foreground, var(--jp-content-font-color1, black)));\n",
              "  --sklearn-color-icon: #696969;\n",
              "\n",
              "  @media (prefers-color-scheme: dark) {\n",
              "    /* Redefinition of color scheme for dark theme */\n",
              "    --sklearn-color-text-on-default-background: var(--sg-text-color, var(--theme-code-foreground, var(--jp-content-font-color1, white)));\n",
              "    --sklearn-color-background: var(--sg-background-color, var(--theme-background, var(--jp-layout-color0, #111)));\n",
              "    --sklearn-color-border-box: var(--sg-text-color, var(--theme-code-foreground, var(--jp-content-font-color1, white)));\n",
              "    --sklearn-color-icon: #878787;\n",
              "  }\n",
              "}\n",
              "\n",
              "#sk-container-id-8 {\n",
              "  color: var(--sklearn-color-text);\n",
              "}\n",
              "\n",
              "#sk-container-id-8 pre {\n",
              "  padding: 0;\n",
              "}\n",
              "\n",
              "#sk-container-id-8 input.sk-hidden--visually {\n",
              "  border: 0;\n",
              "  clip: rect(1px 1px 1px 1px);\n",
              "  clip: rect(1px, 1px, 1px, 1px);\n",
              "  height: 1px;\n",
              "  margin: -1px;\n",
              "  overflow: hidden;\n",
              "  padding: 0;\n",
              "  position: absolute;\n",
              "  width: 1px;\n",
              "}\n",
              "\n",
              "#sk-container-id-8 div.sk-dashed-wrapped {\n",
              "  border: 1px dashed var(--sklearn-color-line);\n",
              "  margin: 0 0.4em 0.5em 0.4em;\n",
              "  box-sizing: border-box;\n",
              "  padding-bottom: 0.4em;\n",
              "  background-color: var(--sklearn-color-background);\n",
              "}\n",
              "\n",
              "#sk-container-id-8 div.sk-container {\n",
              "  /* jupyter's `normalize.less` sets `[hidden] { display: none; }`\n",
              "     but bootstrap.min.css set `[hidden] { display: none !important; }`\n",
              "     so we also need the `!important` here to be able to override the\n",
              "     default hidden behavior on the sphinx rendered scikit-learn.org.\n",
              "     See: https://github.com/scikit-learn/scikit-learn/issues/21755 */\n",
              "  display: inline-block !important;\n",
              "  position: relative;\n",
              "}\n",
              "\n",
              "#sk-container-id-8 div.sk-text-repr-fallback {\n",
              "  display: none;\n",
              "}\n",
              "\n",
              "div.sk-parallel-item,\n",
              "div.sk-serial,\n",
              "div.sk-item {\n",
              "  /* draw centered vertical line to link estimators */\n",
              "  background-image: linear-gradient(var(--sklearn-color-text-on-default-background), var(--sklearn-color-text-on-default-background));\n",
              "  background-size: 2px 100%;\n",
              "  background-repeat: no-repeat;\n",
              "  background-position: center center;\n",
              "}\n",
              "\n",
              "/* Parallel-specific style estimator block */\n",
              "\n",
              "#sk-container-id-8 div.sk-parallel-item::after {\n",
              "  content: \"\";\n",
              "  width: 100%;\n",
              "  border-bottom: 2px solid var(--sklearn-color-text-on-default-background);\n",
              "  flex-grow: 1;\n",
              "}\n",
              "\n",
              "#sk-container-id-8 div.sk-parallel {\n",
              "  display: flex;\n",
              "  align-items: stretch;\n",
              "  justify-content: center;\n",
              "  background-color: var(--sklearn-color-background);\n",
              "  position: relative;\n",
              "}\n",
              "\n",
              "#sk-container-id-8 div.sk-parallel-item {\n",
              "  display: flex;\n",
              "  flex-direction: column;\n",
              "}\n",
              "\n",
              "#sk-container-id-8 div.sk-parallel-item:first-child::after {\n",
              "  align-self: flex-end;\n",
              "  width: 50%;\n",
              "}\n",
              "\n",
              "#sk-container-id-8 div.sk-parallel-item:last-child::after {\n",
              "  align-self: flex-start;\n",
              "  width: 50%;\n",
              "}\n",
              "\n",
              "#sk-container-id-8 div.sk-parallel-item:only-child::after {\n",
              "  width: 0;\n",
              "}\n",
              "\n",
              "/* Serial-specific style estimator block */\n",
              "\n",
              "#sk-container-id-8 div.sk-serial {\n",
              "  display: flex;\n",
              "  flex-direction: column;\n",
              "  align-items: center;\n",
              "  background-color: var(--sklearn-color-background);\n",
              "  padding-right: 1em;\n",
              "  padding-left: 1em;\n",
              "}\n",
              "\n",
              "\n",
              "/* Toggleable style: style used for estimator/Pipeline/ColumnTransformer box that is\n",
              "clickable and can be expanded/collapsed.\n",
              "- Pipeline and ColumnTransformer use this feature and define the default style\n",
              "- Estimators will overwrite some part of the style using the `sk-estimator` class\n",
              "*/\n",
              "\n",
              "/* Pipeline and ColumnTransformer style (default) */\n",
              "\n",
              "#sk-container-id-8 div.sk-toggleable {\n",
              "  /* Default theme specific background. It is overwritten whether we have a\n",
              "  specific estimator or a Pipeline/ColumnTransformer */\n",
              "  background-color: var(--sklearn-color-background);\n",
              "}\n",
              "\n",
              "/* Toggleable label */\n",
              "#sk-container-id-8 label.sk-toggleable__label {\n",
              "  cursor: pointer;\n",
              "  display: block;\n",
              "  width: 100%;\n",
              "  margin-bottom: 0;\n",
              "  padding: 0.5em;\n",
              "  box-sizing: border-box;\n",
              "  text-align: center;\n",
              "}\n",
              "\n",
              "#sk-container-id-8 label.sk-toggleable__label-arrow:before {\n",
              "  /* Arrow on the left of the label */\n",
              "  content: \"▸\";\n",
              "  float: left;\n",
              "  margin-right: 0.25em;\n",
              "  color: var(--sklearn-color-icon);\n",
              "}\n",
              "\n",
              "#sk-container-id-8 label.sk-toggleable__label-arrow:hover:before {\n",
              "  color: var(--sklearn-color-text);\n",
              "}\n",
              "\n",
              "/* Toggleable content - dropdown */\n",
              "\n",
              "#sk-container-id-8 div.sk-toggleable__content {\n",
              "  max-height: 0;\n",
              "  max-width: 0;\n",
              "  overflow: hidden;\n",
              "  text-align: left;\n",
              "  /* unfitted */\n",
              "  background-color: var(--sklearn-color-unfitted-level-0);\n",
              "}\n",
              "\n",
              "#sk-container-id-8 div.sk-toggleable__content.fitted {\n",
              "  /* fitted */\n",
              "  background-color: var(--sklearn-color-fitted-level-0);\n",
              "}\n",
              "\n",
              "#sk-container-id-8 div.sk-toggleable__content pre {\n",
              "  margin: 0.2em;\n",
              "  border-radius: 0.25em;\n",
              "  color: var(--sklearn-color-text);\n",
              "  /* unfitted */\n",
              "  background-color: var(--sklearn-color-unfitted-level-0);\n",
              "}\n",
              "\n",
              "#sk-container-id-8 div.sk-toggleable__content.fitted pre {\n",
              "  /* unfitted */\n",
              "  background-color: var(--sklearn-color-fitted-level-0);\n",
              "}\n",
              "\n",
              "#sk-container-id-8 input.sk-toggleable__control:checked~div.sk-toggleable__content {\n",
              "  /* Expand drop-down */\n",
              "  max-height: 200px;\n",
              "  max-width: 100%;\n",
              "  overflow: auto;\n",
              "}\n",
              "\n",
              "#sk-container-id-8 input.sk-toggleable__control:checked~label.sk-toggleable__label-arrow:before {\n",
              "  content: \"▾\";\n",
              "}\n",
              "\n",
              "/* Pipeline/ColumnTransformer-specific style */\n",
              "\n",
              "#sk-container-id-8 div.sk-label input.sk-toggleable__control:checked~label.sk-toggleable__label {\n",
              "  color: var(--sklearn-color-text);\n",
              "  background-color: var(--sklearn-color-unfitted-level-2);\n",
              "}\n",
              "\n",
              "#sk-container-id-8 div.sk-label.fitted input.sk-toggleable__control:checked~label.sk-toggleable__label {\n",
              "  background-color: var(--sklearn-color-fitted-level-2);\n",
              "}\n",
              "\n",
              "/* Estimator-specific style */\n",
              "\n",
              "/* Colorize estimator box */\n",
              "#sk-container-id-8 div.sk-estimator input.sk-toggleable__control:checked~label.sk-toggleable__label {\n",
              "  /* unfitted */\n",
              "  background-color: var(--sklearn-color-unfitted-level-2);\n",
              "}\n",
              "\n",
              "#sk-container-id-8 div.sk-estimator.fitted input.sk-toggleable__control:checked~label.sk-toggleable__label {\n",
              "  /* fitted */\n",
              "  background-color: var(--sklearn-color-fitted-level-2);\n",
              "}\n",
              "\n",
              "#sk-container-id-8 div.sk-label label.sk-toggleable__label,\n",
              "#sk-container-id-8 div.sk-label label {\n",
              "  /* The background is the default theme color */\n",
              "  color: var(--sklearn-color-text-on-default-background);\n",
              "}\n",
              "\n",
              "/* On hover, darken the color of the background */\n",
              "#sk-container-id-8 div.sk-label:hover label.sk-toggleable__label {\n",
              "  color: var(--sklearn-color-text);\n",
              "  background-color: var(--sklearn-color-unfitted-level-2);\n",
              "}\n",
              "\n",
              "/* Label box, darken color on hover, fitted */\n",
              "#sk-container-id-8 div.sk-label.fitted:hover label.sk-toggleable__label.fitted {\n",
              "  color: var(--sklearn-color-text);\n",
              "  background-color: var(--sklearn-color-fitted-level-2);\n",
              "}\n",
              "\n",
              "/* Estimator label */\n",
              "\n",
              "#sk-container-id-8 div.sk-label label {\n",
              "  font-family: monospace;\n",
              "  font-weight: bold;\n",
              "  display: inline-block;\n",
              "  line-height: 1.2em;\n",
              "}\n",
              "\n",
              "#sk-container-id-8 div.sk-label-container {\n",
              "  text-align: center;\n",
              "}\n",
              "\n",
              "/* Estimator-specific */\n",
              "#sk-container-id-8 div.sk-estimator {\n",
              "  font-family: monospace;\n",
              "  border: 1px dotted var(--sklearn-color-border-box);\n",
              "  border-radius: 0.25em;\n",
              "  box-sizing: border-box;\n",
              "  margin-bottom: 0.5em;\n",
              "  /* unfitted */\n",
              "  background-color: var(--sklearn-color-unfitted-level-0);\n",
              "}\n",
              "\n",
              "#sk-container-id-8 div.sk-estimator.fitted {\n",
              "  /* fitted */\n",
              "  background-color: var(--sklearn-color-fitted-level-0);\n",
              "}\n",
              "\n",
              "/* on hover */\n",
              "#sk-container-id-8 div.sk-estimator:hover {\n",
              "  /* unfitted */\n",
              "  background-color: var(--sklearn-color-unfitted-level-2);\n",
              "}\n",
              "\n",
              "#sk-container-id-8 div.sk-estimator.fitted:hover {\n",
              "  /* fitted */\n",
              "  background-color: var(--sklearn-color-fitted-level-2);\n",
              "}\n",
              "\n",
              "/* Specification for estimator info (e.g. \"i\" and \"?\") */\n",
              "\n",
              "/* Common style for \"i\" and \"?\" */\n",
              "\n",
              ".sk-estimator-doc-link,\n",
              "a:link.sk-estimator-doc-link,\n",
              "a:visited.sk-estimator-doc-link {\n",
              "  float: right;\n",
              "  font-size: smaller;\n",
              "  line-height: 1em;\n",
              "  font-family: monospace;\n",
              "  background-color: var(--sklearn-color-background);\n",
              "  border-radius: 1em;\n",
              "  height: 1em;\n",
              "  width: 1em;\n",
              "  text-decoration: none !important;\n",
              "  margin-left: 1ex;\n",
              "  /* unfitted */\n",
              "  border: var(--sklearn-color-unfitted-level-1) 1pt solid;\n",
              "  color: var(--sklearn-color-unfitted-level-1);\n",
              "}\n",
              "\n",
              ".sk-estimator-doc-link.fitted,\n",
              "a:link.sk-estimator-doc-link.fitted,\n",
              "a:visited.sk-estimator-doc-link.fitted {\n",
              "  /* fitted */\n",
              "  border: var(--sklearn-color-fitted-level-1) 1pt solid;\n",
              "  color: var(--sklearn-color-fitted-level-1);\n",
              "}\n",
              "\n",
              "/* On hover */\n",
              "div.sk-estimator:hover .sk-estimator-doc-link:hover,\n",
              ".sk-estimator-doc-link:hover,\n",
              "div.sk-label-container:hover .sk-estimator-doc-link:hover,\n",
              ".sk-estimator-doc-link:hover {\n",
              "  /* unfitted */\n",
              "  background-color: var(--sklearn-color-unfitted-level-3);\n",
              "  color: var(--sklearn-color-background);\n",
              "  text-decoration: none;\n",
              "}\n",
              "\n",
              "div.sk-estimator.fitted:hover .sk-estimator-doc-link.fitted:hover,\n",
              ".sk-estimator-doc-link.fitted:hover,\n",
              "div.sk-label-container:hover .sk-estimator-doc-link.fitted:hover,\n",
              ".sk-estimator-doc-link.fitted:hover {\n",
              "  /* fitted */\n",
              "  background-color: var(--sklearn-color-fitted-level-3);\n",
              "  color: var(--sklearn-color-background);\n",
              "  text-decoration: none;\n",
              "}\n",
              "\n",
              "/* Span, style for the box shown on hovering the info icon */\n",
              ".sk-estimator-doc-link span {\n",
              "  display: none;\n",
              "  z-index: 9999;\n",
              "  position: relative;\n",
              "  font-weight: normal;\n",
              "  right: .2ex;\n",
              "  padding: .5ex;\n",
              "  margin: .5ex;\n",
              "  width: min-content;\n",
              "  min-width: 20ex;\n",
              "  max-width: 50ex;\n",
              "  color: var(--sklearn-color-text);\n",
              "  box-shadow: 2pt 2pt 4pt #999;\n",
              "  /* unfitted */\n",
              "  background: var(--sklearn-color-unfitted-level-0);\n",
              "  border: .5pt solid var(--sklearn-color-unfitted-level-3);\n",
              "}\n",
              "\n",
              ".sk-estimator-doc-link.fitted span {\n",
              "  /* fitted */\n",
              "  background: var(--sklearn-color-fitted-level-0);\n",
              "  border: var(--sklearn-color-fitted-level-3);\n",
              "}\n",
              "\n",
              ".sk-estimator-doc-link:hover span {\n",
              "  display: block;\n",
              "}\n",
              "\n",
              "/* \"?\"-specific style due to the `<a>` HTML tag */\n",
              "\n",
              "#sk-container-id-8 a.estimator_doc_link {\n",
              "  float: right;\n",
              "  font-size: 1rem;\n",
              "  line-height: 1em;\n",
              "  font-family: monospace;\n",
              "  background-color: var(--sklearn-color-background);\n",
              "  border-radius: 1rem;\n",
              "  height: 1rem;\n",
              "  width: 1rem;\n",
              "  text-decoration: none;\n",
              "  /* unfitted */\n",
              "  color: var(--sklearn-color-unfitted-level-1);\n",
              "  border: var(--sklearn-color-unfitted-level-1) 1pt solid;\n",
              "}\n",
              "\n",
              "#sk-container-id-8 a.estimator_doc_link.fitted {\n",
              "  /* fitted */\n",
              "  border: var(--sklearn-color-fitted-level-1) 1pt solid;\n",
              "  color: var(--sklearn-color-fitted-level-1);\n",
              "}\n",
              "\n",
              "/* On hover */\n",
              "#sk-container-id-8 a.estimator_doc_link:hover {\n",
              "  /* unfitted */\n",
              "  background-color: var(--sklearn-color-unfitted-level-3);\n",
              "  color: var(--sklearn-color-background);\n",
              "  text-decoration: none;\n",
              "}\n",
              "\n",
              "#sk-container-id-8 a.estimator_doc_link.fitted:hover {\n",
              "  /* fitted */\n",
              "  background-color: var(--sklearn-color-fitted-level-3);\n",
              "}\n",
              "</style><div id=\"sk-container-id-8\" class=\"sk-top-container\"><div class=\"sk-text-repr-fallback\"><pre>LogisticRegression(random_state=42)</pre><b>In a Jupyter environment, please rerun this cell to show the HTML representation or trust the notebook. <br />On GitHub, the HTML representation is unable to render, please try loading this page with nbviewer.org.</b></div><div class=\"sk-container\" hidden><div class=\"sk-item\"><div class=\"sk-estimator fitted sk-toggleable\"><input class=\"sk-toggleable__control sk-hidden--visually\" id=\"sk-estimator-id-8\" type=\"checkbox\" checked><label for=\"sk-estimator-id-8\" class=\"sk-toggleable__label fitted sk-toggleable__label-arrow fitted\">&nbsp;&nbsp;LogisticRegression<a class=\"sk-estimator-doc-link fitted\" rel=\"noreferrer\" target=\"_blank\" href=\"https://scikit-learn.org/1.5/modules/generated/sklearn.linear_model.LogisticRegression.html\">?<span>Documentation for LogisticRegression</span></a><span class=\"sk-estimator-doc-link fitted\">i<span>Fitted</span></span></label><div class=\"sk-toggleable__content fitted\"><pre>LogisticRegression(random_state=42)</pre></div> </div></div></div></div>"
            ]
          },
          "metadata": {},
          "execution_count": 231
        }
      ]
    },
    {
      "cell_type": "code",
      "source": [
        "# Realizar predicciones en el conjunto de prueba\n",
        "y_pred = model.predict(X_test)\n",
        "\n",
        "# Calcular la exactitud en el conjunto de entrenamiento\n",
        "train_accuracy = accuracy_score(y_train_resampled, model.predict(X_train_resampled))\n",
        "\n",
        "# Calcular la exactitud en el conjunto de prueba\n",
        "test_accuracy = accuracy_score(y_test, y_pred)\n",
        "\n",
        "print(f'Exactitud en el conjunto de entrenamiento: {train_accuracy:.2f}')\n",
        "print(f'Exactitud en el conjunto de prueba: {test_accuracy:.2f}')\n",
        "\n",
        "# Evaluar el modelo con la matriz de confusión y el reporte de clasificación\n",
        "conf_matrix = confusion_matrix(y_test, y_pred)\n",
        "class_report = classification_report(y_test, y_pred)\n",
        "\n",
        "\n",
        "print(\"\\nInforme de Clasificación:\")\n",
        "print(class_report)\n",
        "\n",
        "# Visualizar la matriz de confusión\n",
        "plt.figure(figsize=(6, 4))\n",
        "sns.heatmap(conf_matrix, annot=True, fmt='d', cmap='Blues',\n",
        "            xticklabels=['Clase 0', 'Clase 1'], yticklabels=['Clase 0', 'Clase 1'])\n",
        "plt.xlabel('Predicción')\n",
        "plt.ylabel('Realidad')\n",
        "plt.title('Matriz de Confusión')\n",
        "plt.show()\n",
        "\n",
        "print(\"Matriz de Confusión:\")\n",
        "print(conf_matrix)"
      ],
      "metadata": {
        "colab": {
          "base_uri": "https://localhost:8080/",
          "height": 705
        },
        "id": "4XERycTmIFoZ",
        "outputId": "ff13f2d8-a2da-4d60-d9ab-8a6047903451"
      },
      "execution_count": 232,
      "outputs": [
        {
          "output_type": "stream",
          "name": "stdout",
          "text": [
            "Exactitud en el conjunto de entrenamiento: 0.82\n",
            "Exactitud en el conjunto de prueba: 0.80\n",
            "\n",
            "Informe de Clasificación:\n",
            "              precision    recall  f1-score   support\n",
            "\n",
            "           0       0.89      0.87      0.88      1115\n",
            "           1       0.38      0.43      0.41       208\n",
            "\n",
            "    accuracy                           0.80      1323\n",
            "   macro avg       0.64      0.65      0.64      1323\n",
            "weighted avg       0.81      0.80      0.81      1323\n",
            "\n"
          ]
        },
        {
          "output_type": "display_data",
          "data": {
            "text/plain": [
              "<Figure size 600x400 with 2 Axes>"
            ],
            "image/png": "[encoded data removed]"
          },
          "metadata": {}
        },
        {
          "output_type": "stream",
          "name": "stdout",
          "text": [
            "Matriz de Confusión:\n",
            "[[969 146]\n",
            " [118  90]]\n"
          ]
        }
      ]
    },
    {
      "cell_type": "code",
      "source": [
        "# Realizar validación cruzada\n",
        "cv_scores = cross_val_score(model, X_train_resampled, y_train_resampled, cv=5)\n",
        "\n",
        "# Mostrar las puntuaciones de validación cruzada\n",
        "print(\"Puntuaciones de validación cruzada:\", cv_scores)\n",
        "print(f'Exactitud media de validación cruzada: {cv_scores.mean():.2f}')\n"
      ],
      "metadata": {
        "colab": {
          "base_uri": "https://localhost:8080/"
        },
        "id": "8YS1SSPTUrBw",
        "outputId": "d28695c1-629e-4e06-c7a1-4898ebf1e030"
      },
      "execution_count": 233,
      "outputs": [
        {
          "output_type": "stream",
          "name": "stdout",
          "text": [
            "Puntuaciones de validación cruzada: [0.6450677  0.844294   0.85783366 0.84027106 0.84607938]\n",
            "Exactitud media de validación cruzada: 0.81\n"
          ]
        }
      ]
    },
    {
      "cell_type": "code",
      "source": [
        "# Obtener los coeficientes del modelo\n",
        "coeficientes = model.coef_[0]\n",
        "\n",
        "# Crear un DataFrame para visualizar los coeficientes\n",
        "features = X_train.columns\n",
        "coef_df = pd.DataFrame({'Feature': features, 'Coefficient': coeficientes})\n",
        "\n",
        "# Ordenar los coeficientes por su valor (de mayor a menor)\n",
        "coef_df = coef_df.sort_values(by='Coefficient', ascending=False)\n",
        "\n",
        "# Mostrar todos los coeficientes\n",
        "pd.set_option('display.max_rows', None)  # Esto asegura que se muestren todas las filas\n",
        "print(coef_df)"
      ],
      "metadata": {
        "colab": {
          "base_uri": "https://localhost:8080/"
        },
        "id": "sThbZwn5bV8s",
        "outputId": "09b7b02f-9d15-4af5-e103-6886e5cdae75"
      },
      "execution_count": 234,
      "outputs": [
        {
          "output_type": "stream",
          "name": "stdout",
          "text": [
            "                               Feature  Coefficient\n",
            "0           business_travel_frequently     0.830042\n",
            "18               marital_status_single     0.604959\n",
            "1               business_travel_rarely     0.282152\n",
            "19                         gender_male     0.066527\n",
            "5        education_field_life_sciences    -0.250509\n",
            "17              marital_status_married    -0.300592\n",
            "23               education_universidad    -0.318523\n",
            "21              education_licenciatura    -0.373416\n",
            "7              education_field_medical    -0.384680\n",
            "13          job_role_research_director    -0.412613\n",
            "6            education_field_marketing    -0.435688\n",
            "38            rango_ultimo_ascenso_4_7    -0.517380\n",
            "22                  education_maestría    -0.583260\n",
            "4      education_field_human_resources    -0.586885\n",
            "8     education_field_technical_degree    -0.657059\n",
            "2    department_research_&_development    -0.673438\n",
            "37          rango_ultimo_ascenso_12_15    -0.730802\n",
            "44        rango_años_en_la_empresa_0_3    -0.783548\n",
            "3                     department_sales    -0.884816\n",
            "28               rango_experiencia_0_7    -0.910764\n",
            "14         job_role_research_scientist    -0.972262\n",
            "39           rango_ultimo_ascenso_8_11    -0.978632\n",
            "32                     rango_age_18_25    -1.019750\n",
            "15            job_role_sales_executive    -1.130759\n",
            "9   job_role_healthcare_representative    -1.149503\n",
            "10      job_role_laboratory_technician    -1.203398\n",
            "26             rango_num_companies_6_8    -1.346291\n",
            "16       job_role_sales_representative    -1.422023\n",
            "46        rango_años_en_la_empresa_20+    -1.424786\n",
            "31              rango_experiencia_8_16    -1.447057\n",
            "20                 education_doctorado    -1.482631\n",
            "36            rango_ultimo_ascenso_0_3    -1.485602\n",
            "11                    job_role_manager    -1.497627\n",
            "42                rango_mismo_jefe_5_8    -1.500102\n",
            "52               rango_distancia_cerca    -1.500376\n",
            "27               rango_num_companies_9    -1.501414\n",
            "30             rango_experiencia_31_40    -1.599105\n",
            "12     job_role_manufacturing_director    -1.663575\n",
            "33                     rango_age_26_35    -1.673451\n",
            "53          rango_distancia_intermedio    -1.683146\n",
            "54               rango_distancia_lejos    -1.783540\n",
            "48              rango_ingresos_10k_40k    -1.791427\n",
            "40                rango_mismo_jefe_0_4    -1.817717\n",
            "50              rango_ingresos_40k_70k    -1.825903\n",
            "47       rango_años_en_la_empresa_4_10    -1.844191\n",
            "35                     rango_age_49_60    -1.890836\n",
            "25             rango_num_companies_3_5    -1.893981\n",
            "34                     rango_age_36_48    -2.018205\n",
            "29             rango_experiencia_17_30    -2.023638\n",
            "45      rango_años_en_la_empresa_11_20    -2.044288\n",
            "51             rango_ingresos_70k_120k    -2.057515\n",
            "24             rango_num_companies_0_2    -2.062986\n",
            "49            rango_ingresos_120k_200k    -2.102291\n",
            "43               rango_mismo_jefe_9_12    -2.129768\n",
            "56          rango_percent_salary_15_18    -2.163405\n",
            "41              rango_mismo_jefe_13_17    -2.200621\n",
            "55          rango_percent_salary_11_14    -2.240102\n",
            "57          rango_percent_salary_19_21    -2.404855\n",
            "58          rango_percent_salary_22_25    -2.747487\n"
          ]
        }
      ]
    },
    {
      "cell_type": "code",
      "source": [
        "# Obtener las probabilidades de predicción para el conjunto de entrenamiento\n",
        "y_prob_train = model.predict_proba(X_train_resampled)[:, 1]\n",
        "\n",
        "# Obtener las probabilidades de predicción para el conjunto de prueba\n",
        "y_prob_test = model.predict_proba(X_test)[:, 1]\n",
        "\n",
        "# Calcular la curva ROC y AUC para el conjunto de entrenamiento\n",
        "fpr_train, tpr_train, _ = roc_curve(y_train_resampled, y_prob_train)\n",
        "auc_train = roc_auc_score(y_train_resampled, y_prob_train)\n",
        "\n",
        "# Calcular la curva ROC y AUC para el conjunto de prueba\n",
        "fpr_test, tpr_test, _ = roc_curve(y_test, y_prob_test)\n",
        "auc_test = roc_auc_score(y_test, y_prob_test)\n",
        "\n",
        "# Graficar ambas curvas ROC\n",
        "plt.figure(figsize=(8, 6))\n",
        "\n",
        "# Curva ROC para el conjunto de entrenamiento\n",
        "plt.plot(fpr_train, tpr_train, label=f'Train AUC = {auc_train:.2f}', color='blue')\n",
        "\n",
        "# Curva ROC para el conjunto de prueba\n",
        "plt.plot(fpr_test, tpr_test, label=f'Test AUC = {auc_test:.2f}', color='green')\n",
        "\n",
        "# Línea de referencia para un modelo aleatorio\n",
        "plt.plot([0, 1], [0, 1], 'k--')\n",
        "\n",
        "# Configurar el gráfico\n",
        "plt.xlim([0.0, 1.0])\n",
        "plt.ylim([0.0, 1.05])\n",
        "plt.xlabel('Tasa de Falsos Positivos (FPR)')\n",
        "plt.ylabel('Tasa de Verdaderos Positivos (TPR)')\n",
        "plt.title('Curvas ROC para Entrenamiento y Prueba')\n",
        "plt.legend(loc=\"lower right\")\n",
        "plt.show()\n"
      ],
      "metadata": {
        "colab": {
          "base_uri": "https://localhost:8080/",
          "height": 511
        },
        "id": "2YsHfLLrMqGp",
        "outputId": "13624307-1c70-4c99-a30e-d1647ca38786"
      },
      "execution_count": 235,
      "outputs": [
        {
          "output_type": "display_data",
          "data": {
            "text/plain": [
              "<Figure size 800x600 with 1 Axes>"
            ],
            "image/png": "[encoded data removed]"
          },
          "metadata": {}
        }
      ]
    },
    {
      "cell_type": "markdown",
      "source": [
        "LogisticRegression con balanceo de datos SMOTE y variables especificas"
      ],
      "metadata": {
        "id": "7TVP3iNTMIdy"
      }
    },
    {
      "cell_type": "code",
      "source": [
        "df = pd.read_csv('/content/datos_dummy.csv')"
      ],
      "metadata": {
        "id": "8rGei2DQx9-q"
      },
      "execution_count": 237,
      "outputs": []
    },
    {
      "cell_type": "code",
      "source": [
        "# Lista de variables que quieres mantener\n",
        "selected_columns = [\n",
        " 'rango_años_en_la_empresa_0_3',\n",
        "    'marital_status_single',\n",
        "    'gender_male',\n",
        "    'rango_age_36_48',\n",
        "    'education_licenciatura',\n",
        "    'rango_percent_salary_15_18',\n",
        "    'rango_experiencia_8_16',\n",
        "    'education_universidad',\n",
        "    'education_field_medical',\n",
        "    'rango_percent_salary_11_14',\n",
        "    'rango_num_companies_3_5',\n",
        "    'department_research_&_development',\n",
        "    'job_role_research_scientist',\n",
        "    'job_role_sales_executive',\n",
        "    'rango_ingresos_10k_40k',\n",
        "    'business_travel_frequently',\n",
        "    \"attrition_yes\"\n",
        "]\n",
        "\n",
        "# Filtrar el DataFrame para quedarse solo con esas columnas\n",
        "df_filtered = df[selected_columns]\n",
        "\n",
        "# Verificar que se seleccionaron correctamente las columnas\n",
        "print(df_filtered.head())\n"
      ],
      "metadata": {
        "id": "kOyij_Gox-oS",
        "colab": {
          "base_uri": "https://localhost:8080/"
        },
        "outputId": "7beaddab-ee28-4a4a-f033-f58928166d2d"
      },
      "execution_count": 239,
      "outputs": [
        {
          "output_type": "stream",
          "name": "stdout",
          "text": [
            "   rango_años_en_la_empresa_0_3  marital_status_single  gender_male  \\\n",
            "0                             1                      0            0   \n",
            "1                             0                      1            0   \n",
            "2                             0                      0            1   \n",
            "3                             0                      0            1   \n",
            "4                             0                      1            1   \n",
            "\n",
            "   rango_age_36_48  education_licenciatura  rango_percent_salary_15_18  \\\n",
            "0                0                       0                           0   \n",
            "1                0                       0                           0   \n",
            "2                0                       0                           1   \n",
            "3                1                       0                           0   \n",
            "4                0                       0                           0   \n",
            "\n",
            "   rango_experiencia_8_16  education_universidad  education_field_medical  \\\n",
            "0                       0                      1                        0   \n",
            "1                       0                      0                        0   \n",
            "2                       0                      0                        0   \n",
            "3                       1                      0                        0   \n",
            "4                       1                      0                        1   \n",
            "\n",
            "   rango_percent_salary_11_14  rango_num_companies_3_5  \\\n",
            "0                           1                        0   \n",
            "1                           0                        0   \n",
            "2                           0                        0   \n",
            "3                           1                        1   \n",
            "4                           1                        1   \n",
            "\n",
            "   department_research_&_development  job_role_research_scientist  \\\n",
            "0                                  0                            0   \n",
            "1                                  1                            1   \n",
            "2                                  1                            0   \n",
            "3                                  1                            0   \n",
            "4                                  1                            0   \n",
            "\n",
            "   job_role_sales_executive  rango_ingresos_10k_40k  \\\n",
            "0                         0                       0   \n",
            "1                         0                       0   \n",
            "2                         1                       0   \n",
            "3                         0                       0   \n",
            "4                         1                       1   \n",
            "\n",
            "   business_travel_frequently  attrition_yes  \n",
            "0                           0              0  \n",
            "1                           1              1  \n",
            "2                           1              0  \n",
            "3                           0              0  \n",
            "4                           0              0  \n"
          ]
        }
      ]
    },
    {
      "cell_type": "code",
      "source": [
        "# Ver la distribución de la variable objetivo\n",
        "print(\"Distribución de la variable objetivo:\")\n",
        "print(df_filtered['attrition_yes'].value_counts())\n"
      ],
      "metadata": {
        "id": "qjyDG2x1yql2",
        "colab": {
          "base_uri": "https://localhost:8080/"
        },
        "outputId": "4ba47224-bf71-4ae3-a2dc-02c31a47030f"
      },
      "execution_count": 240,
      "outputs": [
        {
          "output_type": "stream",
          "name": "stdout",
          "text": [
            "Distribución de la variable objetivo:\n",
            "attrition_yes\n",
            "0    3699\n",
            "1     711\n",
            "Name: count, dtype: int64\n"
          ]
        }
      ]
    },
    {
      "cell_type": "code",
      "source": [
        "# Dividir en características (X) y variable objetivo (y)\n",
        "X = df_filtered.drop('attrition_yes', axis=1)\n",
        "y = df_filtered['attrition_yes']"
      ],
      "metadata": {
        "id": "10M8b6IVyuaK"
      },
      "execution_count": 241,
      "outputs": []
    },
    {
      "cell_type": "code",
      "source": [
        "# Dividir en conjuntos de entrenamiento y prueba\n",
        "X_train, X_test, y_train, y_test = train_test_split(X, y, test_size=0.3, random_state=42)"
      ],
      "metadata": {
        "id": "34ngR5Nwy5rL"
      },
      "execution_count": 242,
      "outputs": []
    },
    {
      "cell_type": "code",
      "source": [
        "# Aplicar SMOTE para balancear el conjunto de entrenamiento\n",
        "smote = SMOTE(random_state=42)\n",
        "X_train_resampled, y_train_resampled = smote.fit_resample(X_train, y_train)"
      ],
      "metadata": {
        "id": "foMcBq-By8Jz"
      },
      "execution_count": 243,
      "outputs": []
    },
    {
      "cell_type": "code",
      "source": [
        "# Ver las nuevas distribuciones de las clases\n",
        "print(\"Distribución de la variable objetivo después de SMOTE:\")\n",
        "print(pd.Series(y_train_resampled).value_counts())\n"
      ],
      "metadata": {
        "id": "i2VvW7Yty9b0",
        "colab": {
          "base_uri": "https://localhost:8080/"
        },
        "outputId": "fc7add16-2af4-4133-d37e-5cc1d7edbd31"
      },
      "execution_count": 244,
      "outputs": [
        {
          "output_type": "stream",
          "name": "stdout",
          "text": [
            "Distribución de la variable objetivo después de SMOTE:\n",
            "attrition_yes\n",
            "0    2584\n",
            "1    2584\n",
            "Name: count, dtype: int64\n"
          ]
        }
      ]
    },
    {
      "cell_type": "code",
      "source": [
        "# Crear el clasificador de regresión logística\n",
        "model = LogisticRegression(random_state=42)\n",
        "\n",
        "# Entrenar el modelo con el conjunto de datos balanceado\n",
        "model.fit(X_train_resampled, y_train_resampled)\n",
        "\n",
        "# Realizar predicciones en el conjunto de prueba\n",
        "y_pred = model.predict(X_test)\n",
        "\n",
        "# Calcular la exactitud en el conjunto de entrenamiento\n",
        "train_accuracy = accuracy_score(y_train_resampled, model.predict(X_train_resampled))\n",
        "\n",
        "# Calcular la exactitud en el conjunto de prueba\n",
        "test_accuracy = accuracy_score(y_test, y_pred)\n",
        "\n",
        "print(f'Exactitud en el conjunto de entrenamiento: {train_accuracy:.2f}')\n",
        "print(f'Exactitud en el conjunto de prueba: {test_accuracy:.2f}')\n",
        "\n",
        "# Evaluar el modelo con la matriz de confusión y el reporte de clasificación\n",
        "conf_matrix = confusion_matrix(y_test, y_pred)\n",
        "class_report = classification_report(y_test, y_pred)\n",
        "\n",
        "\n",
        "print(\"\\nInforme de Clasificación:\")\n",
        "print(class_report)\n",
        "\n",
        "# Visualizar la matriz de confusión\n",
        "plt.figure(figsize=(6, 4))\n",
        "sns.heatmap(conf_matrix, annot=True, fmt='d', cmap='Blues',\n",
        "            xticklabels=['Clase 0', 'Clase 1'], yticklabels=['Clase 0', 'Clase 1'])\n",
        "plt.xlabel('Predicción')\n",
        "plt.ylabel('Realidad')\n",
        "plt.title('Matriz de Confusión')\n",
        "plt.show()\n",
        "\n",
        "print(\"Matriz de Confusión:\")\n",
        "print(conf_matrix)"
      ],
      "metadata": {
        "id": "L4EkXb5ay999",
        "colab": {
          "base_uri": "https://localhost:8080/",
          "height": 705
        },
        "outputId": "20371791-26cd-4ba4-c512-9af004e55aab"
      },
      "execution_count": 245,
      "outputs": [
        {
          "output_type": "stream",
          "name": "stdout",
          "text": [
            "Exactitud en el conjunto de entrenamiento: 0.65\n",
            "Exactitud en el conjunto de prueba: 0.65\n",
            "\n",
            "Informe de Clasificación:\n",
            "              precision    recall  f1-score   support\n",
            "\n",
            "           0       0.91      0.65      0.75      1115\n",
            "           1       0.25      0.65      0.37       208\n",
            "\n",
            "    accuracy                           0.65      1323\n",
            "   macro avg       0.58      0.65      0.56      1323\n",
            "weighted avg       0.81      0.65      0.69      1323\n",
            "\n"
          ]
        },
        {
          "output_type": "display_data",
          "data": {
            "text/plain": [
              "<Figure size 600x400 with 2 Axes>"
            ],
            "image/png": "[encoded data removed]"
          },
          "metadata": {}
        },
        {
          "output_type": "stream",
          "name": "stdout",
          "text": [
            "Matriz de Confusión:\n",
            "[[720 395]\n",
            " [ 73 135]]\n"
          ]
        }
      ]
    },
    {
      "cell_type": "code",
      "source": [
        "# Obtener las probabilidades de predicción para el conjunto de entrenamiento\n",
        "y_prob_train = model.predict_proba(X_train_resampled)[:, 1]\n",
        "\n",
        "# Obtener las probabilidades de predicción para el conjunto de prueba\n",
        "y_prob_test = model.predict_proba(X_test)[:, 1]\n",
        "\n",
        "# Calcular la curva ROC y AUC para el conjunto de entrenamiento\n",
        "fpr_train, tpr_train, _ = roc_curve(y_train_resampled, y_prob_train)\n",
        "auc_train = roc_auc_score(y_train_resampled, y_prob_train)\n",
        "\n",
        "# Calcular la curva ROC y AUC para el conjunto de prueba\n",
        "fpr_test, tpr_test, _ = roc_curve(y_test, y_prob_test)\n",
        "auc_test = roc_auc_score(y_test, y_prob_test)\n",
        "\n",
        "# Graficar ambas curvas ROC\n",
        "plt.figure(figsize=(8, 6))\n",
        "\n",
        "# Curva ROC para el conjunto de entrenamiento\n",
        "plt.plot(fpr_train, tpr_train, label=f'Train AUC = {auc_train:.2f}', color='blue')\n",
        "\n",
        "# Curva ROC para el conjunto de prueba\n",
        "plt.plot(fpr_test, tpr_test, label=f'Test AUC = {auc_test:.2f}', color='green')\n",
        "\n",
        "# Línea de referencia para un modelo aleatorio\n",
        "plt.plot([0, 1], [0, 1], 'k--')\n",
        "\n",
        "# Configurar el gráfico\n",
        "plt.xlim([0.0, 1.0])\n",
        "plt.ylim([0.0, 1.05])\n",
        "plt.xlabel('Tasa de Falsos Positivos (FPR)')\n",
        "plt.ylabel('Tasa de Verdaderos Positivos (TPR)')\n",
        "plt.title('Curvas ROC para Entrenamiento y Prueba')\n",
        "plt.legend(loc=\"lower right\")\n",
        "plt.show()\n",
        "\n"
      ],
      "metadata": {
        "id": "cTojju_MM8Ve",
        "colab": {
          "base_uri": "https://localhost:8080/",
          "height": 511
        },
        "outputId": "d2f6ca27-eabc-4c87-f755-2310729c2d9e"
      },
      "execution_count": 246,
      "outputs": [
        {
          "output_type": "display_data",
          "data": {
            "text/plain": [
              "<Figure size 800x600 with 1 Axes>"
            ],
            "image/png": "[encoded data removed]"
          },
          "metadata": {}
        }
      ]
    }
  ]
}